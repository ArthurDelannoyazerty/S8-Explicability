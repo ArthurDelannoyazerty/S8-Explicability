{
 "cells": [
  {
   "attachments": {},
   "cell_type": "markdown",
   "metadata": {},
   "source": [
    "Librairies"
   ]
  },
  {
   "cell_type": "code",
   "execution_count": 35,
   "metadata": {},
   "outputs": [],
   "source": [
    "import os\n",
    "import numpy as np\n",
    "import pandas as pd\n",
    "import cv2\n",
    "\n",
    "from matplotlib import pyplot as plt\n",
    "from scipy.stats import pearsonr\n",
    "from skimage.metrics import structural_similarity as ssim"
   ]
  },
  {
   "attachments": {},
   "cell_type": "markdown",
   "metadata": {},
   "source": [
    "Metriques"
   ]
  },
  {
   "cell_type": "code",
   "execution_count": 65,
   "metadata": {},
   "outputs": [],
   "source": [
    "# Ouvrir les images\n",
    "def img_open(path_sal_map,path_attacked_sal_map):\n",
    "    img1 = cv2.imread(path_sal_map)\n",
    "    img2 = cv2.imread(path_attacked_sal_map)\n",
    "    return img1,img2\n",
    "\n",
    "# Calcul de la différence absolue\n",
    "# Plus la valeur est proche de 0 plus les images sont similaires\n",
    "def diff_abs(path_sal_map,path_attacked_sal_map):\n",
    "    img1 = cv2.imread(path_sal_map)\n",
    "    img2 = cv2.imread(path_attacked_sal_map)\n",
    "    return (np.sum(np.abs(img1 - img2)))/(img1.size)\n",
    "\n",
    "# Calcul de la différence quadratique (mse)\n",
    "# Plus la valeur est proche de 0 plus les images sont similaires\n",
    "def diff_quadratique(path_sal_map,path_attacked_sal_map):\n",
    "    img1, img2 = img_open(path_sal_map,path_attacked_sal_map)\n",
    "    diff = cv2.subtract(img1, img2)\n",
    "    error = np.sum(np.square(diff))\n",
    "    return error/(img1.size)\n",
    "\n",
    "\n",
    "# Calcul du coef de corrélation\n",
    "# Plus la valeur est proche de 1 plus les images sont similaires\n",
    "def coef_correlation(path_sal_map,path_attacked_sal_map):\n",
    "    img1, img2 = img_open(path_sal_map,path_attacked_sal_map)\n",
    "    result = pearsonr(img1.flatten(),img2.flatten())\n",
    "    return result.statistic\n",
    "\n",
    "# Calcul du ssim Structural Similarity Index\n",
    "# Plus la valeur est proche de 1 plus les images sont similaires\n",
    "def ssim_func(path_sal_map,path_attacked_sal_map):\n",
    "    img1, img2 = img_open(path_sal_map,path_attacked_sal_map)\n",
    "    gray_img1 = cv2.cvtColor(img1, cv2.COLOR_BGR2GRAY)\n",
    "    gray_img2 = cv2.cvtColor(img2, cv2.COLOR_BGR2GRAY)\n",
    "    valssim = ssim(gray_img1, gray_img2)\n",
    "    return valssim"
   ]
  },
  {
   "cell_type": "code",
   "execution_count": 59,
   "metadata": {},
   "outputs": [],
   "source": [
    "path_project_root = os.path.dirname(os.path.abspath(''))\n",
    "directory = os.path.join(path_project_root, 'final_dir\\images\\output')\n",
    "\n",
    "object = []\n",
    "model = []\n",
    "attack = []\n",
    "intensity= []\n",
    "saliency = []\n",
    "attacked = []\n",
    "path = []\n",
    "\n",
    "for file in os.listdir(directory):\n",
    "    filename = file[:-4]\n",
    "    info = filename.split('_')\n",
    "    object.append(info[0])\n",
    "    model.append(info[1])\n",
    "    attack.append(info[2])\n",
    "    intensity.append(info[3])\n",
    "    saliency.append(info[4])\n",
    "    attacked.append(info[5])\n",
    "    path.append(os.path.join(directory, filename))\n",
    "   \n",
    "df = pd.DataFrame(list(zip(object,model,attack,intensity,saliency,attacked,path)), \n",
    "                  columns = ['Objet','Model','Attaque','Intensité','Saillance','Attaquée','Chemin'])\n",
    "\n",
    "\n",
    "df_saliency_attacked = df[(df['Saillance'] == 'saliency') & (df['Attaquée'] == 'attacked')].reset_index()\n",
    "df_saliency_noattacked = df[(df['Saillance'] == 'saliency') & (df['Attaquée'] == 'noattacked')].reset_index()\n",
    "\n",
    "df_img_attacked = df[(df['Saillance'] == 'nosaliency') & (df['Attaquée'] == 'attacked')].reset_index()\n",
    "df_img_noattacked = df[(df['Saillance'] == 'nosaliency') & (df['Attaquée'] == 'noattacked')].reset_index()\n"
   ]
  },
  {
   "cell_type": "code",
   "execution_count": null,
   "metadata": {},
   "outputs": [],
   "source": [
    "diff_abs_result = []\n",
    "\n",
    "for i in df_saliency_noattacked.index:\n",
    "    diff_abs_result.append(diff_quadratique(df_saliency_noattacked[\"Chemin\"][i],df_saliency_attacked[\"Chemin\"][i]))"
   ]
  }
 ],
 "metadata": {
  "kernelspec": {
   "display_name": "Python 3",
   "language": "python",
   "name": "python3"
  },
  "language_info": {
   "codemirror_mode": {
    "name": "ipython",
    "version": 3
   },
   "file_extension": ".py",
   "mimetype": "text/x-python",
   "name": "python",
   "nbconvert_exporter": "python",
   "pygments_lexer": "ipython3",
   "version": "3.10.11"
  },
  "orig_nbformat": 4
 },
 "nbformat": 4,
 "nbformat_minor": 2
}
