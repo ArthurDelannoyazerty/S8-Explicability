{
 "cells": [
  {
   "cell_type": "code",
   "execution_count": null,
   "metadata": {},
   "outputs": [],
   "source": [
    "import os\n",
    "import numpy as np\n",
    "import pandas as pd\n",
    "import cv2\n",
    "\n",
    "from matplotlib import pyplot as plt\n",
    "from scipy.stats import pearsonr\n",
    "from skimage.metrics import structural_similarity as ssim\n",
    "import tensorflow as tf"
   ]
  },
  {
   "cell_type": "code",
   "execution_count": null,
   "metadata": {},
   "outputs": [],
   "source": [
    "df_img_info = pd.read_csv('img_info.csv')\n",
    "df_sal_info = pd.read_csv('sal_info.csv')"
   ]
  },
  {
   "attachments": {},
   "cell_type": "markdown",
   "metadata": {},
   "source": [
    "Traitement"
   ]
  },
  {
   "cell_type": "code",
   "execution_count": null,
   "metadata": {},
   "outputs": [],
   "source": [
    "# pour les images\n",
    "# Groupe by par Model \n",
    "model_img = df_img_info.groupby(df_img_info.Model)\n",
    "img_MV2 = model_img.get_group('MobileNetV2')\n",
    "img_VGG16 = model_img.get_group('VGG16')\n",
    "img_ResNet = model_img.get_group('ResNet152V2')\n",
    "\n",
    "# Groupe by par attaque sur les modèles\n",
    "attaque_img_MV2 = img_MV2.groupby([\"Attaque\"])\n",
    "img_MV2_PGD = attaque_img_MV2.get_group('PGD')\n",
    "img_MV2_FGSM = attaque_img_MV2.get_group('FGSM')\n",
    "\n",
    "attaque_img_VGG16 = img_VGG16.groupby([\"Attaque\"])\n",
    "img_VGG16_PGD = attaque_img_VGG16.get_group('PGD')\n",
    "img_VGG16_FGSM = attaque_img_VGG16.get_group('FGSM')\n",
    "\n",
    "#attaque_img_ResNet = img_ResNet.groupby([\"Attaque\"])\n",
    "img_ResNet_PGD = attaque_img_ResNet.get_group('PGD')\n",
    "img_ResNet_FGSM = attaque_img_ResNet.get_group('FGSM')\n"
   ]
  },
  {
   "cell_type": "code",
   "execution_count": null,
   "metadata": {},
   "outputs": [],
   "source": [
    "# pour les saillance\n",
    "# Groupe by par Model \n",
    "model_sal = df_sal_info.groupby(df_sal_info.Model)\n",
    "sal_MV2 = model_sal.get_group('MobileNetV2')\n",
    "sal_VGG16 = model_sal.get_group('VGG16')\n",
    "sal_ResNet = model_sal.get_group('ResNet152V2')\n",
    "\n",
    "# Groupe by par attaque sur les modèles\n",
    "attaque_sal_MV2 = sal_MV2.groupby([\"Attaque\"])\n",
    "sal_MV2_PGD = attaque_sal_MV2.get_group('PGD')\n",
    "sal_MV2_FGSM = attaque_sal_MV2.get_group('FGSM')\n",
    "\n",
    "attaque_sal_VGG16 = sal_VGG16.groupby([\"Attaque\"])\n",
    "sal_VGG16_PGD = attaque_sal_VGG16.get_group('PGD')\n",
    "sal_VGG16_FGSM = attaque_sal_VGG16.get_group('FGSM')\n",
    "\n",
    "attaque_sal_ResNet = sal_ResNet.groupby([\"Attaque\"])\n",
    "sal_ResNet_PGD = attaque_sal_ResNet.get_group('PGD')\n",
    "sal_ResNet_FGSM = attaque_sal_ResNet.get_group('FGSM')"
   ]
  },
  {
   "cell_type": "code",
   "execution_count": null,
   "metadata": {},
   "outputs": [],
   "source": [
    "Toutes les Analyses de métriques"
   ]
  },
  {
   "cell_type": "code",
   "execution_count": null,
   "metadata": {},
   "outputs": [],
   "source": [
    "fig, ((ax1, ax2), (ax3, ax4)) = plt.subplots(2, 2)\n",
    "fig.suptitle('MobileNetV2 et attaque PGD sur les images')\n",
    "ax1.scatter(img_MV2_PGD[\"Objet\"],img_MV2_PGD[\"Difference absolue\"])\n",
    "ax1.set_ylabel(\"Diff abs\")\n",
    "ax2.scatter(img_MV2_PGD[\"Objet\"],img_MV2_PGD[\"MSE\"], c = 'red')\n",
    "ax2.set_ylabel(\"MSE\")\n",
    "ax3.scatter(img_MV2_PGD[\"Objet\"],img_MV2_PGD[\"Coef de corrélation\"], c = 'green')\n",
    "ax3.set_ylabel(\"Coef de corr\")\n",
    "ax4.scatter(img_MV2_PGD[\"Objet\"],img_MV2_PGD[\"SSIM\"], c = 'purple')\n",
    "ax4.set_ylabel(\"SSIM\")\n",
    "\n",
    "for ax in (ax1, ax2,ax3,ax4):\n",
    "    ax.tick_params(axis='x', rotation=60)\n",
    "\n",
    "plt.subplots_adjust(hspace=0.7)\n",
    "plt.subplots_adjust(wspace=0.5)\n"
   ]
  },
  {
   "cell_type": "code",
   "execution_count": null,
   "metadata": {},
   "outputs": [],
   "source": [
    "fig, ((ax1, ax2), (ax3, ax4)) = plt.subplots(2, 2)\n",
    "fig.suptitle('MobileNetV2 et attaque FGSM sur les images')\n",
    "ax1.scatter(img_MV2_FGSM[\"Objet\"],img_MV2_FGSM[\"Difference absolue\"])\n",
    "ax1.set_ylabel(\"Diff abs\")\n",
    "ax2.scatter(img_MV2_FGSM[\"Objet\"],img_MV2_FGSM[\"MSE\"], c = 'red')\n",
    "ax2.set_ylabel(\"MSE\")\n",
    "ax3.scatter(img_MV2_FGSM[\"Objet\"],img_MV2_FGSM[\"Coef de corrélation\"], c = 'green')\n",
    "ax3.set_ylabel(\"Coef de corr\")\n",
    "ax4.scatter(img_MV2_FGSM[\"Objet\"],img_MV2_FGSM[\"SSIM\"], c = 'purple')\n",
    "ax4.set_ylabel(\"SSIM\")\n",
    "\n",
    "for ax in (ax1, ax2,ax3,ax4):\n",
    "    ax.tick_params(axis='x', rotation=60)\n",
    "\n",
    "plt.subplots_adjust(hspace=0.7)\n",
    "plt.subplots_adjust(wspace=0.5)\n"
   ]
  },
  {
   "cell_type": "code",
   "execution_count": null,
   "metadata": {},
   "outputs": [],
   "source": [
    "fig, ((ax1, ax2), (ax3, ax4)) = plt.subplots(2, 2)\n",
    "fig.suptitle('VGG16 et attaque PGD sur les images')\n",
    "ax1.scatter(img_VGG16_PGD[\"Objet\"],img_VGG16_PGD[\"Difference absolue\"])\n",
    "ax1.set_ylabel(\"Diff abs\")\n",
    "ax2.scatter(img_VGG16_PGD[\"Objet\"],img_VGG16_PGD[\"MSE\"], c = 'red')\n",
    "ax2.set_ylabel(\"MSE\")\n",
    "ax3.scatter(img_VGG16_PGD[\"Objet\"],img_VGG16_PGD[\"Coef de corrélation\"], c = 'green')\n",
    "ax3.set_ylabel(\"Coef de corr\")\n",
    "ax4.scatter(img_VGG16_PGD[\"Objet\"],img_VGG16_PGD[\"SSIM\"], c = 'purple')\n",
    "ax4.set_ylabel(\"SSIM\")\n",
    "\n",
    "for ax in (ax1, ax2,ax3,ax4):\n",
    "    ax.tick_params(axis='x', rotation=60)\n",
    "\n",
    "plt.subplots_adjust(hspace=0.7)\n",
    "plt.subplots_adjust(wspace=0.5)\n"
   ]
  },
  {
   "cell_type": "code",
   "execution_count": null,
   "metadata": {},
   "outputs": [],
   "source": [
    "fig, ((ax1, ax2), (ax3, ax4)) = plt.subplots(2, 2)\n",
    "fig.suptitle('VGG16 et attaque FGSM sur les images')\n",
    "ax1.scatter(img_VGG16_FGSM[\"Objet\"],img_VGG16_FGSM[\"Difference absolue\"])\n",
    "ax1.set_ylabel(\"Diff abs\")\n",
    "ax2.scatter(img_VGG16_FGSM[\"Objet\"],img_VGG16_FGSM[\"MSE\"], c = 'red')\n",
    "ax2.set_ylabel(\"MSE\")\n",
    "ax3.scatter(img_VGG16_FGSM[\"Objet\"],img_VGG16_FGSM[\"Coef de corrélation\"], c = 'green')\n",
    "ax3.set_ylabel(\"Coef de corr\")\n",
    "ax4.scatter(img_VGG16_FGSM[\"Objet\"],img_VGG16_FGSM[\"SSIM\"], c = 'purple')\n",
    "ax4.set_ylabel(\"SSIM\")\n",
    "\n",
    "for ax in (ax1, ax2,ax3,ax4):\n",
    "    ax.tick_params(axis='x', rotation=60)\n",
    "\n",
    "plt.subplots_adjust(hspace=0.7)\n",
    "plt.subplots_adjust(wspace=0.5)"
   ]
  },
  {
   "cell_type": "code",
   "execution_count": null,
   "metadata": {},
   "outputs": [],
   "source": [
    "fig, ((ax1, ax2), (ax3, ax4)) = plt.subplots(2, 2)\n",
    "fig.suptitle('ResNet et attaque PGD sur les images')\n",
    "ax1.scatter(img_ResNet_PGD[\"Objet\"],img_VGG16_FGSM[\"Difference absolue\"])\n",
    "ax1.set_ylabel(\"Diff abs\")\n",
    "ax2.scatter(img_ResNet_PGD[\"Objet\"],img_VGG16_FGSM[\"MSE\"], c = 'red')\n",
    "ax2.set_ylabel(\"MSE\")\n",
    "ax3.scatter(img_ResNet_PGD[\"Objet\"],img_VGG16_FGSM[\"Coef de corrélation\"], c = 'green')\n",
    "ax3.set_ylabel(\"Coef de corr\")\n",
    "ax4.scatter(img_ResNet_PGD[\"Objet\"],img_VGG16_FGSM[\"SSIM\"], c = 'purple')\n",
    "ax4.set_ylabel(\"SSIM\")\n",
    "\n",
    "for ax in (ax1, ax2,ax3,ax4):\n",
    "    ax.tick_params(axis='x', rotation=60)\n",
    "\n",
    "plt.subplots_adjust(hspace=0.7)\n",
    "plt.subplots_adjust(wspace=0.5)"
   ]
  },
  {
   "cell_type": "code",
   "execution_count": null,
   "metadata": {},
   "outputs": [],
   "source": [
    "fig, ((ax1, ax2), (ax3, ax4)) = plt.subplots(2, 2)\n",
    "fig.suptitle('ResNet et attaque FGSM sur les images')\n",
    "ax1.scatter(img_ResNet_FGSM[\"Objet\"],img_ResNet_FGSM[\"Difference absolue\"])\n",
    "ax1.set_ylabel(\"Diff abs\")\n",
    "ax2.scatter(img_ResNet_FGSM[\"Objet\"],img_ResNet_FGSM[\"MSE\"], c = 'red')\n",
    "ax2.set_ylabel(\"MSE\")\n",
    "ax3.scatter(img_ResNet_FGSM[\"Objet\"],img_ResNet_FGSM[\"Coef de corrélation\"], c = 'green')\n",
    "ax3.set_ylabel(\"Coef de corr\")\n",
    "ax4.scatter(img_ResNet_FGSM[\"Objet\"],img_ResNet_FGSM[\"SSIM\"], c = 'purple')\n",
    "ax4.set_ylabel(\"SSIM\")\n",
    "\n",
    "for ax in (ax1, ax2,ax3,ax4):\n",
    "    ax.tick_params(axis='x', rotation=60)\n",
    "\n",
    "plt.subplots_adjust(hspace=0.7)\n",
    "plt.subplots_adjust(wspace=0.5)"
   ]
  },
  {
   "cell_type": "code",
   "execution_count": null,
   "metadata": {},
   "outputs": [],
   "source": [
    "fig, ((ax1, ax2), (ax3, ax4)) = plt.subplots(2, 2)\n",
    "fig.suptitle('MobileNetV2 et attaque PGD sur les cartes de Saillance')\n",
    "ax1.scatter(sal_MV2_PGD[\"Objet\"],sal_MV2_PGD[\"Difference absolue\"])\n",
    "ax1.set_ylabel(\"Diff abs\")\n",
    "ax2.scatter(sal_MV2_PGD[\"Objet\"],sal_MV2_PGD[\"MSE\"], c = 'red')\n",
    "ax2.set_ylabel(\"MSE\")\n",
    "ax3.scatter(sal_MV2_PGD[\"Objet\"],sal_MV2_PGD[\"Coef de corrélation\"], c = 'green')\n",
    "ax3.set_ylabel(\"Coef de corr\")\n",
    "ax4.scatter(sal_MV2_PGD[\"Objet\"],sal_MV2_PGD[\"SSIM\"], c = 'purple')\n",
    "ax4.set_ylabel(\"SSIM\")\n",
    "\n",
    "for ax in (ax1, ax2,ax3,ax4):\n",
    "    ax.tick_params(axis='x', rotation=60)\n",
    "\n",
    "plt.subplots_adjust(hspace=0.7)\n",
    "plt.subplots_adjust(wspace=0.5)"
   ]
  },
  {
   "cell_type": "code",
   "execution_count": null,
   "metadata": {},
   "outputs": [],
   "source": [
    "fig, ((ax1, ax2), (ax3, ax4)) = plt.subplots(2, 2)\n",
    "fig.suptitle('MobileNetV2 et attaque FGSM sur les cartes de Saillance')\n",
    "ax1.scatter(sal_MV2_FGSM[\"Objet\"],sal_MV2_FGSM[\"Difference absolue\"])\n",
    "ax1.set_ylabel(\"Diff abs\")\n",
    "ax2.scatter(sal_MV2_FGSM[\"Objet\"],sal_MV2_FGSM[\"MSE\"], c = 'red')\n",
    "ax2.set_ylabel(\"MSE\")\n",
    "ax3.scatter(sal_MV2_FGSM[\"Objet\"],sal_MV2_FGSM[\"Coef de corrélation\"], c = 'green')\n",
    "ax3.set_ylabel(\"Coef de corr\")\n",
    "ax4.scatter(sal_MV2_FGSM[\"Objet\"],sal_MV2_FGSM[\"SSIM\"], c = 'purple')\n",
    "ax4.set_ylabel(\"SSIM\")\n",
    "\n",
    "for ax in (ax1, ax2,ax3,ax4):\n",
    "    ax.tick_params(axis='x', rotation=60)\n",
    "\n",
    "plt.subplots_adjust(hspace=0.7)\n",
    "plt.subplots_adjust(wspace=0.5)"
   ]
  },
  {
   "cell_type": "code",
   "execution_count": null,
   "metadata": {},
   "outputs": [],
   "source": [
    "fig, ((ax1, ax2), (ax3, ax4)) = plt.subplots(2, 2)\n",
    "fig.suptitle('MobileNetV2 et attaque PGD sur les cartes de Saillance')\n",
    "ax1.scatter(sal_VGG16_PGD[\"Objet\"],sal_VGG16_PGD[\"Difference absolue\"])\n",
    "ax1.set_ylabel(\"Diff abs\")\n",
    "ax2.scatter(sal_VGG16_PGD[\"Objet\"],sal_VGG16_PGD[\"MSE\"], c = 'red')\n",
    "ax2.set_ylabel(\"MSE\")\n",
    "ax3.scatter(sal_VGG16_PGD[\"Objet\"],sal_VGG16_PGD[\"Coef de corrélation\"], c = 'green')\n",
    "ax3.set_ylabel(\"Coef de corr\")\n",
    "ax4.scatter(sal_VGG16_PGD[\"Objet\"],sal_VGG16_PGD[\"SSIM\"], c = 'purple')\n",
    "ax4.set_ylabel(\"SSIM\")\n",
    "\n",
    "for ax in (ax1, ax2,ax3,ax4):\n",
    "    ax.tick_params(axis='x', rotation=60)\n",
    "\n",
    "plt.subplots_adjust(hspace=0.7)\n",
    "plt.subplots_adjust(wspace=0.5)"
   ]
  },
  {
   "cell_type": "code",
   "execution_count": null,
   "metadata": {},
   "outputs": [],
   "source": [
    "fig, ((ax1, ax2), (ax3, ax4)) = plt.subplots(2, 2)\n",
    "fig.suptitle('MobileNetV2 et attaque FGSM sur les cartes de Saillance')\n",
    "ax1.scatter(sal_VGG16_FGSM[\"Objet\"],sal_VGG16_FGSM[\"Difference absolue\"])\n",
    "ax1.set_ylabel(\"Diff abs\")\n",
    "ax2.scatter(sal_VGG16_FGSM[\"Objet\"],sal_VGG16_FGSM[\"MSE\"], c = 'red')\n",
    "ax2.set_ylabel(\"MSE\")\n",
    "ax3.scatter(sal_VGG16_FGSM[\"Objet\"],sal_VGG16_FGSM[\"Coef de corrélation\"], c = 'green')\n",
    "ax3.set_ylabel(\"Coef de corr\")\n",
    "ax4.scatter(sal_VGG16_FGSM[\"Objet\"],sal_VGG16_FGSM[\"SSIM\"], c = 'purple')\n",
    "ax4.set_ylabel(\"SSIM\")\n",
    "\n",
    "for ax in (ax1, ax2,ax3,ax4):\n",
    "    ax.tick_params(axis='x', rotation=60)\n",
    "\n",
    "plt.subplots_adjust(hspace=0.7)\n",
    "plt.subplots_adjust(wspace=0.5)"
   ]
  },
  {
   "cell_type": "code",
   "execution_count": null,
   "metadata": {},
   "outputs": [],
   "source": [
    "fig, ((ax1, ax2), (ax3, ax4)) = plt.subplots(2, 2)\n",
    "fig.suptitle('MobileNetV2 et attaque PGD sur les cartes de Saillance')\n",
    "ax1.scatter(sal_ResNet_PGD[\"Objet\"],sal_ResNet_PGD[\"Difference absolue\"])\n",
    "ax1.set_ylabel(\"Diff abs\")\n",
    "ax2.scatter(sal_ResNet_PGD[\"Objet\"],sal_ResNet_PGD[\"MSE\"], c = 'red')\n",
    "ax2.set_ylabel(\"MSE\")\n",
    "ax3.scatter(sal_ResNet_PGD[\"Objet\"],sal_ResNet_PGD[\"Coef de corrélation\"], c = 'green')\n",
    "ax3.set_ylabel(\"Coef de corr\")\n",
    "ax4.scatter(sal_ResNet_PGD[\"Objet\"],sal_ResNet_PGD[\"SSIM\"], c = 'purple')\n",
    "ax4.set_ylabel(\"SSIM\")\n",
    "\n",
    "for ax in (ax1, ax2,ax3,ax4):\n",
    "    ax.tick_params(axis='x', rotation=60)\n",
    "\n",
    "plt.subplots_adjust(hspace=0.7)\n",
    "plt.subplots_adjust(wspace=0.5)"
   ]
  },
  {
   "cell_type": "code",
   "execution_count": null,
   "metadata": {},
   "outputs": [],
   "source": [
    "fig, ((ax1, ax2), (ax3, ax4)) = plt.subplots(2, 2)\n",
    "fig.suptitle('MobileNetV2 et attaque FGSM sur les cartes de Saillance')\n",
    "ax1.scatter(sal_ResNet_FGSM[\"Objet\"],sal_ResNet_FGSM[\"Difference absolue\"])\n",
    "ax1.set_ylabel(\"Diff abs\")\n",
    "ax2.scatter(sal_ResNet_FGSM[\"Objet\"],sal_ResNet_FGSM[\"MSE\"], c = 'red')\n",
    "ax2.set_ylabel(\"MSE\")\n",
    "ax3.scatter(sal_ResNet_FGSM[\"Objet\"],sal_ResNet_FGSM[\"Coef de corrélation\"], c = 'green')\n",
    "ax3.set_ylabel(\"Coef de corr\")\n",
    "ax4.scatter(sal_ResNet_FGSM[\"Objet\"],sal_ResNet_FGSM[\"SSIM\"], c = 'purple')\n",
    "ax4.set_ylabel(\"SSIM\")\n",
    "\n",
    "for ax in (ax1, ax2,ax3,ax4):\n",
    "    ax.tick_params(axis='x', rotation=60)\n",
    "\n",
    "plt.subplots_adjust(hspace=0.7)\n",
    "plt.subplots_adjust(wspace=0.5)"
   ]
  },
  {
   "attachments": {},
   "cell_type": "markdown",
   "metadata": {},
   "source": [
    "Graphiques du taux de confiance selon l'intensité de l'attaque"
   ]
  },
  {
   "cell_type": "code",
   "execution_count": null,
   "metadata": {},
   "outputs": [],
   "source": [
    "plt.title('MobileNetV2 et PGD')\n",
    "plt.scatter(sal_MV2_PGD[\"Score\"],sal_MV2_PGD[\"Intensité\"], c = 'red')\n",
    "plt.xlabel(\"Intensité de l'attaque\")\n",
    "plt.Ylabel(\" Taux de confiance du modèle\")"
   ]
  },
  {
   "cell_type": "code",
   "execution_count": null,
   "metadata": {},
   "outputs": [],
   "source": [
    "plt.title('MobileNetV2 et FGSM')\n",
    "plt.scatter(sal_MV2_FGSM[\"Score\"],sal_MV2_FGSM[\"Intensité\"])\n",
    "plt.xlabel(\"Intensité de l'attaque\")\n",
    "plt.Ylabel(\" Taux de confiance du modèle\")"
   ]
  },
  {
   "cell_type": "code",
   "execution_count": null,
   "metadata": {},
   "outputs": [],
   "source": [
    "plt.title('VGG16 et PGD')\n",
    "plt.scatter(sal_VGG16_PGD[\"Score\"],sal_VGG16_PGD[\"Intensité\"],c = 'red')\n",
    "plt.xlabel(\"Intensité de l'attaque\")\n",
    "plt.Ylabel(\" Taux de confiance du modèle\")"
   ]
  },
  {
   "cell_type": "code",
   "execution_count": null,
   "metadata": {},
   "outputs": [],
   "source": [
    "plt.title('VGG16 et FGSM')\n",
    "plt.scatter(sal_VGG16_FGSM[\"Score\"],sal_VGG16_FGSM[\"Intensité\"])\n",
    "plt.xlabel(\"Intensité de l'attaque\")\n",
    "plt.Ylabel(\" Taux de confiance du modèle\")"
   ]
  },
  {
   "cell_type": "code",
   "execution_count": null,
   "metadata": {},
   "outputs": [],
   "source": [
    "plt.title('ResNet et PGD')\n",
    "plt.scatter(sal_ResNet_PGD[\"Score\"],sal_ResNet_PGD[\"Intensité\"],c = 'red')\n",
    "plt.xlabel(\"Intensité de l'attaque\")\n",
    "plt.Ylabel(\" Taux de confiance du modèle\")"
   ]
  },
  {
   "cell_type": "code",
   "execution_count": null,
   "metadata": {},
   "outputs": [],
   "source": [
    "plt.title('ResNet et FGSM')\n",
    "plt.scatter(sal_ResNet_FGSM[\"Score\"],sal_ResNet_FGSM[\"Intensité\"])\n",
    "plt.xlabel(\"Intensité de l'attaque\")\n",
    "plt.Ylabel(\" Taux de confiance du modèle\")"
   ]
  }
 ],
 "metadata": {
  "kernelspec": {
   "display_name": "Python 3",
   "language": "python",
   "name": "python3"
  },
  "language_info": {
   "codemirror_mode": {
    "name": "ipython",
    "version": 3
   },
   "file_extension": ".py",
   "mimetype": "text/x-python",
   "name": "python",
   "nbconvert_exporter": "python",
   "pygments_lexer": "ipython3",
   "version": "3.10.11"
  },
  "orig_nbformat": 4
 },
 "nbformat": 4,
 "nbformat_minor": 2
}
