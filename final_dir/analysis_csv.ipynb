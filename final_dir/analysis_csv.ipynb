{
 "cells": [
  {
   "attachments": {},
   "cell_type": "markdown",
   "metadata": {},
   "source": [
    "Librairies"
   ]
  },
  {
   "cell_type": "code",
   "execution_count": 11,
   "metadata": {},
   "outputs": [],
   "source": [
    "import os\n",
    "import numpy as np\n",
    "import pandas as pd\n",
    "import cv2\n",
    "\n",
    "from matplotlib import pyplot as plt\n",
    "from scipy.stats import pearsonr\n",
    "from skimage.metrics import structural_similarity as ssim"
   ]
  },
  {
   "attachments": {},
   "cell_type": "markdown",
   "metadata": {},
   "source": [
    "Metriques"
   ]
  },
  {
   "cell_type": "code",
   "execution_count": 12,
   "metadata": {},
   "outputs": [],
   "source": [
    "# Ouvrir les images\n",
    "def img_open(path_img_map,path_attacked_img_map):\n",
    "    img1 = cv2.imread(path_img_map)\n",
    "    img2 = cv2.imread(path_attacked_img_map)\n",
    "    return img1,img2\n",
    "\n",
    "# Calcul de la différence absolue\n",
    "# Plus la valeur est proche de 0 plus les images sont similaires\n",
    "def diff_abs(path_img_map,path_attacked_img_map):\n",
    "    img1 = cv2.imread(path_img_map)\n",
    "    img2 = cv2.imread(path_attacked_img_map)\n",
    "    return (np.sum(np.abs(img1 - img2)))/(img1.size)\n",
    "\n",
    "# Calcul de la différence quadratique (mse)\n",
    "# Plus la valeur est proche de 0 plus les images sont similaires\n",
    "def diff_quadratique(path_img_map,path_attacked_img_map):\n",
    "    img1, img2 = img_open(path_img_map,path_attacked_img_map)\n",
    "    diff = cv2.subtract(img1, img2)\n",
    "    error = np.sum(np.square(diff))\n",
    "    return error/(img1.size)\n",
    "\n",
    "\n",
    "# Calcul du coef de corrélation\n",
    "# Plus la valeur est proche de 1 plus les images sont similaires\n",
    "def coef_correlation(path_img_map,path_attacked_img_map):\n",
    "    img1, img2 = img_open(path_img_map,path_attacked_img_map)\n",
    "    result = pearsonr(img1.flatten(),img2.flatten())\n",
    "    return result.statistic\n",
    "\n",
    "# Calcul du ssim Structural Similarity Index\n",
    "# Plus la valeur est proche de 1 plus les images sont similaires\n",
    "def ssim_func(path_img_map,path_attacked_img_map):\n",
    "    img1, img2 = img_open(path_img_map,path_attacked_img_map)\n",
    "    gray_img1 = cv2.cvtColor(img1, cv2.COLOR_BGR2GRAY)\n",
    "    gray_img2 = cv2.cvtColor(img2, cv2.COLOR_BGR2GRAY)\n",
    "    valssim = ssim(gray_img1, gray_img2)\n",
    "    return valssim"
   ]
  },
  {
   "attachments": {},
   "cell_type": "markdown",
   "metadata": {},
   "source": [
    "Traitement des fichiers en dataframe"
   ]
  },
  {
   "cell_type": "code",
   "execution_count": 13,
   "metadata": {},
   "outputs": [],
   "source": [
    "path_project_root = os.path.dirname(os.path.abspath(''))\n",
    "directory = os.path.join(path_project_root, 'final_dir\\images\\output')\n",
    "\n",
    "obj = []\n",
    "model = []\n",
    "attack = []\n",
    "intensity= []\n",
    "saliency = []\n",
    "attacked = []\n",
    "path = []\n",
    "score = []\n",
    "\n",
    "for file in os.listdir(directory):\n",
    "    filepath = os.path.join(directory, file)\n",
    "    path.append(filepath)\n",
    "\n",
    "    filename = file[:-4]\n",
    "    info = filename.split('_')\n",
    "    obj.append(info[0])\n",
    "    model.append(info[1])\n",
    "    attack.append(info[2])\n",
    "    intensity.append(info[3])\n",
    "    score.append(info[4])\n",
    "    saliency.append(info[5])\n",
    "    attacked.append(info[6])\n",
    "    \n",
    "    \n",
    "  \n",
    "df = pd.DataFrame(list(zip(obj,model,attack,intensity,saliency,attacked,path,score)), \n",
    "                  columns = ['Objet','Model','Attaque','Intensité','Saillance','Attaquée','Chemin','Score'])\n",
    "\n",
    "\n",
    "df_saliency_attacked = df[(df['Saillance'] == 'saliency') & (df['Attaquée'] == 'attacked')].reset_index()\n",
    "df_saliency_noattacked = df[(df['Saillance'] == 'saliency') & (df['Attaquée'] == 'noattacked')].reset_index()\n",
    "\n",
    "df_img_attacked = df[(df['Saillance'] == 'nosaliency') & (df['Attaquée'] == 'attacked')].reset_index()\n",
    "df_img_noattacked = df[(df['Saillance'] == 'nosaliency') & (df['Attaquée'] == 'noattacked')].reset_index()\n"
   ]
  },
  {
   "cell_type": "code",
   "execution_count": 14,
   "metadata": {},
   "outputs": [],
   "source": [
    "diff_abs_sal_result = []\n",
    "diff_quadratique_sal_result = []\n",
    "coef_correlation_sal_result = []\n",
    "ssim_func_sal_result = []\n",
    "\n",
    "for i in df_saliency_attacked.index:\n",
    "    path_sal_map = df_saliency_noattacked['Chemin'][i]\n",
    "    path_attacked_sal_map = df_saliency_attacked['Chemin'][i]\n",
    "\n",
    "    # difference metric\n",
    "    diff_abs_sal_result.append(diff_abs(path_sal_map,path_attacked_sal_map))\n",
    "    diff_quadratique_sal_result.append(diff_quadratique(path_sal_map,path_attacked_sal_map))\n",
    "    coef_correlation_sal_result.append(coef_correlation(path_sal_map,path_attacked_sal_map))\n",
    "    ssim_func_sal_result.append(ssim_func(path_sal_map,path_attacked_sal_map))\n",
    "\n"
   ]
  },
  {
   "cell_type": "code",
   "execution_count": 15,
   "metadata": {},
   "outputs": [
    {
     "ename": "KeyError",
     "evalue": "0",
     "output_type": "error",
     "traceback": [
      "\u001b[1;31m---------------------------------------------------------------------------\u001b[0m",
      "\u001b[1;31mValueError\u001b[0m                                Traceback (most recent call last)",
      "File \u001b[1;32mc:\\Users\\Arthur\\anaconda3\\envs\\vis-keras\\lib\\site-packages\\pandas\\core\\indexes\\range.py:391\u001b[0m, in \u001b[0;36mRangeIndex.get_loc\u001b[1;34m(self, key, method, tolerance)\u001b[0m\n\u001b[0;32m    390\u001b[0m \u001b[39mtry\u001b[39;00m:\n\u001b[1;32m--> 391\u001b[0m     \u001b[39mreturn\u001b[39;00m \u001b[39mself\u001b[39;49m\u001b[39m.\u001b[39;49m_range\u001b[39m.\u001b[39;49mindex(new_key)\n\u001b[0;32m    392\u001b[0m \u001b[39mexcept\u001b[39;00m \u001b[39mValueError\u001b[39;00m \u001b[39mas\u001b[39;00m err:\n",
      "\u001b[1;31mValueError\u001b[0m: 0 is not in range",
      "\nThe above exception was the direct cause of the following exception:\n",
      "\u001b[1;31mKeyError\u001b[0m                                  Traceback (most recent call last)",
      "Cell \u001b[1;32mIn[15], line 7\u001b[0m\n\u001b[0;32m      4\u001b[0m ssim_func_img_result \u001b[39m=\u001b[39m []\n\u001b[0;32m      6\u001b[0m \u001b[39mfor\u001b[39;00m i \u001b[39min\u001b[39;00m df_img_attacked\u001b[39m.\u001b[39mindex:\n\u001b[1;32m----> 7\u001b[0m     path_img_map \u001b[39m=\u001b[39m df_img_noattacked[\u001b[39m'\u001b[39;49m\u001b[39mChemin\u001b[39;49m\u001b[39m'\u001b[39;49m][i]\n\u001b[0;32m      8\u001b[0m     path_attacked_img_map \u001b[39m=\u001b[39m df_img_attacked[\u001b[39m'\u001b[39m\u001b[39mChemin\u001b[39m\u001b[39m'\u001b[39m][i]\n\u001b[0;32m     10\u001b[0m     \u001b[39m# difference metric\u001b[39;00m\n",
      "File \u001b[1;32mc:\\Users\\Arthur\\anaconda3\\envs\\vis-keras\\lib\\site-packages\\pandas\\core\\series.py:981\u001b[0m, in \u001b[0;36mSeries.__getitem__\u001b[1;34m(self, key)\u001b[0m\n\u001b[0;32m    978\u001b[0m     \u001b[39mreturn\u001b[39;00m \u001b[39mself\u001b[39m\u001b[39m.\u001b[39m_values[key]\n\u001b[0;32m    980\u001b[0m \u001b[39melif\u001b[39;00m key_is_scalar:\n\u001b[1;32m--> 981\u001b[0m     \u001b[39mreturn\u001b[39;00m \u001b[39mself\u001b[39;49m\u001b[39m.\u001b[39;49m_get_value(key)\n\u001b[0;32m    983\u001b[0m \u001b[39mif\u001b[39;00m is_hashable(key):\n\u001b[0;32m    984\u001b[0m     \u001b[39m# Otherwise index.get_value will raise InvalidIndexError\u001b[39;00m\n\u001b[0;32m    985\u001b[0m     \u001b[39mtry\u001b[39;00m:\n\u001b[0;32m    986\u001b[0m         \u001b[39m# For labels that don't resolve as scalars like tuples and frozensets\u001b[39;00m\n",
      "File \u001b[1;32mc:\\Users\\Arthur\\anaconda3\\envs\\vis-keras\\lib\\site-packages\\pandas\\core\\series.py:1089\u001b[0m, in \u001b[0;36mSeries._get_value\u001b[1;34m(self, label, takeable)\u001b[0m\n\u001b[0;32m   1086\u001b[0m     \u001b[39mreturn\u001b[39;00m \u001b[39mself\u001b[39m\u001b[39m.\u001b[39m_values[label]\n\u001b[0;32m   1088\u001b[0m \u001b[39m# Similar to Index.get_value, but we do not fall back to positional\u001b[39;00m\n\u001b[1;32m-> 1089\u001b[0m loc \u001b[39m=\u001b[39m \u001b[39mself\u001b[39;49m\u001b[39m.\u001b[39;49mindex\u001b[39m.\u001b[39;49mget_loc(label)\n\u001b[0;32m   1090\u001b[0m \u001b[39mreturn\u001b[39;00m \u001b[39mself\u001b[39m\u001b[39m.\u001b[39mindex\u001b[39m.\u001b[39m_get_values_for_loc(\u001b[39mself\u001b[39m, loc, label)\n",
      "File \u001b[1;32mc:\\Users\\Arthur\\anaconda3\\envs\\vis-keras\\lib\\site-packages\\pandas\\core\\indexes\\range.py:393\u001b[0m, in \u001b[0;36mRangeIndex.get_loc\u001b[1;34m(self, key, method, tolerance)\u001b[0m\n\u001b[0;32m    391\u001b[0m         \u001b[39mreturn\u001b[39;00m \u001b[39mself\u001b[39m\u001b[39m.\u001b[39m_range\u001b[39m.\u001b[39mindex(new_key)\n\u001b[0;32m    392\u001b[0m     \u001b[39mexcept\u001b[39;00m \u001b[39mValueError\u001b[39;00m \u001b[39mas\u001b[39;00m err:\n\u001b[1;32m--> 393\u001b[0m         \u001b[39mraise\u001b[39;00m \u001b[39mKeyError\u001b[39;00m(key) \u001b[39mfrom\u001b[39;00m \u001b[39merr\u001b[39;00m\n\u001b[0;32m    394\u001b[0m \u001b[39mself\u001b[39m\u001b[39m.\u001b[39m_check_indexing_error(key)\n\u001b[0;32m    395\u001b[0m \u001b[39mraise\u001b[39;00m \u001b[39mKeyError\u001b[39;00m(key)\n",
      "\u001b[1;31mKeyError\u001b[0m: 0"
     ]
    }
   ],
   "source": [
    "diff_abs_img_result = []\n",
    "diff_quadratique_img_result = []\n",
    "coef_correlation_img_result = []\n",
    "ssim_func_img_result = []\n",
    "\n",
    "for i in df_img_attacked.index:\n",
    "    path_img_map = df_img_noattacked['Chemin'][i]\n",
    "    path_attacked_img_map = df_img_attacked['Chemin'][i]\n",
    "\n",
    "    # difference metric\n",
    "    diff_abs_img_result.append(diff_abs(path_img_map,path_attacked_img_map))\n",
    "    diff_quadratique_img_result.append(diff_quadratique(path_img_map,path_attacked_img_map))\n",
    "    coef_correlation_img_result.append(coef_correlation(path_img_map,path_attacked_img_map))\n",
    "    ssim_func_img_result.append(ssim_func(path_img_map,path_attacked_img_map))\n",
    "\n"
   ]
  },
  {
   "cell_type": "code",
   "execution_count": null,
   "metadata": {},
   "outputs": [],
   "source": [
    "img_value = pd.DataFrame(list(zip(diff_abs_img_result,diff_quadratique_img_result,coef_correlation_img_result,ssim_func_img_result)), \n",
    "                  columns = ['Difference absolue','MSE','Coef de corrélation','SSIM'])\n",
    "\n",
    "sal_value = pd.DataFrame(list(zip(diff_abs_sal_result,diff_quadratique_sal_result,coef_correlation_sal_result,ssim_func_sal_result)), \n",
    "                  columns = ['Difference absolue','MSE','Coef de corrélation','SSIM'])\n",
    "\n",
    "df_img_info = df_img_attacked.merge(img_value, how='inner', left_index=True, right_index=True)\n",
    "df_sal_info = df_saliency_attacked.merge(sal_value, how='inner', left_index=True, right_index=True)"
   ]
  },
  {
   "cell_type": "code",
   "execution_count": null,
   "metadata": {},
   "outputs": [],
   "source": [
    "df_img_info = df_img_info.drop(columns=['Saillance','Attaquée','index','Chemin'])\n",
    "\n",
    "df_sal_info = df_sal_info.drop(columns=['Saillance','Attaquée','index','Chemin'])"
   ]
  },
  {
   "attachments": {},
   "cell_type": "markdown",
   "metadata": {},
   "source": [
    "Enregistrement des df dans un csv"
   ]
  },
  {
   "cell_type": "code",
   "execution_count": null,
   "metadata": {},
   "outputs": [],
   "source": [
    "df_img_info.to_csv('img_info.csv')\n",
    "df_sal_info.to_csv('sal_info.csv')"
   ]
  }
 ],
 "metadata": {
  "kernelspec": {
   "display_name": "Python 3",
   "language": "python",
   "name": "python3"
  },
  "language_info": {
   "codemirror_mode": {
    "name": "ipython",
    "version": 3
   },
   "file_extension": ".py",
   "mimetype": "text/x-python",
   "name": "python",
   "nbconvert_exporter": "python",
   "pygments_lexer": "ipython3",
   "version": "3.9.16"
  },
  "orig_nbformat": 4
 },
 "nbformat": 4,
 "nbformat_minor": 2
}
