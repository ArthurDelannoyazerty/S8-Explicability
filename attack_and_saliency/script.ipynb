{
  "cells": [
    {
      "cell_type": "code",
      "execution_count": null,
      "metadata": {
        "id": "_J17H9FPoiVW"
      },
      "outputs": [],
      "source": [
        "#!pip install tf-keras-vis"
      ]
    },
    {
      "cell_type": "code",
      "execution_count": null,
      "metadata": {
        "colab": {
          "base_uri": "https://localhost:8080/",
          "height": 392
        },
        "id": "nYcwSbqeorX6",
        "outputId": "42d3c6f9-51fc-421a-bb4f-d03362b8e296"
      },
      "outputs": [],
      "source": [
        "print(\"Executing : Load libraries\")\n",
        "\n",
        "import os\n",
        "# uncomment to force the non use of GPU\n",
        "# os.environ[\"CUDA_VISIBLE_DEVICES\"] = \"-1\"\n",
        "\n",
        "import numpy as np\n",
        "from matplotlib import pyplot as plt\n",
        "\n",
        "import tensorflow as tf\n",
        "from tf_keras_vis.utils import num_of_gpus\n",
        "\n",
        "from keras.utils import load_img\n",
        "\n",
        "from tf_keras_vis.utils.scores import CategoricalScore\n",
        "from tf_keras_vis.utils.model_modifiers import ReplaceToLinear\n",
        "from tf_keras_vis.saliency import Saliency\n",
        "\n",
        "from PIL import Image\n",
        "\n",
        "import numpy as np\n",
        "import cv2\n",
        "from scipy.stats import pearsonr\n",
        "from skimage.metrics import structural_similarity as ssim\n",
        "\n",
        "_, gpus = num_of_gpus()\n",
        "print('Tensorflow recognized {} GPUs'.format(gpus))\n",
        "\n",
        "path_project_root = os.path.dirname(os.path.abspath(''))"
      ]
    },
    {
      "attachments": {},
      "cell_type": "markdown",
      "metadata": {
        "id": "YmybNIO7oztN"
      },
      "source": [
        "# SALIENCY"
      ]
    },
    {
      "cell_type": "code",
      "execution_count": null,
      "metadata": {
        "id": "O1jT7hhgou_o"
      },
      "outputs": [],
      "source": [
        "def load_model(model_name=\"MobileNetV2\"):\n",
        "    \"\"\"\n",
        "        Return the selected model. Argument : name of the model.\n",
        "    \"\"\"\n",
        "    print(\"Executing : Load Model\")\n",
        "    model=\"\"\n",
        "    if model_name==\"VGG16\":\n",
        "        from keras.applications.vgg16 import VGG16 as Model\n",
        "        model = Model(weights='imagenet', include_top=True)\n",
        "    elif model_name==\"MobileNetV2\":\n",
        "        from keras.applications.mobilenet_v2 import MobileNetV2 as Model\n",
        "        model = Model(weights='imagenet', include_top=True)\n",
        "    else:\n",
        "        print(\"Error : model not available\")\n",
        "        raise NameError()\n",
        "    return model\n",
        "\n",
        "def get_image(path, size=(224,224), model_name=\"MobileNetV2\"):\n",
        "    print(\"Executing : Load And Preprocess Image\")\n",
        "    image= load_img(path)\n",
        "    image = tf.cast(image, tf.float32)\n",
        "    if model_name==\"VGG16\":\n",
        "        image = tf.keras.applications.vgg16.preprocess_input(image)\n",
        "    elif model_name==\"MobileNetV2\":\n",
        "        image = tf.keras.applications.mobilenet_v2.preprocess_input(image)\n",
        "    return image\n",
        "\n",
        "def get_score_function(index_list):\n",
        "    print(\"Executing : Create Score Function\")\n",
        "    return CategoricalScore(index_list)\n",
        "\n",
        "def get_saliency_object(model):\n",
        "    print(\"Executing : Create Saliency Object\")\n",
        "    replace2linear = ReplaceToLinear()\n",
        "    saliency = Saliency(model, model_modifier=replace2linear, clone=True)\n",
        "    return saliency"
      ]
    },
    {
      "attachments": {},
      "cell_type": "markdown",
      "metadata": {
        "id": "ejZM-CzPo_Ok"
      },
      "source": [
        "# ATTACK"
      ]
    },
    {
      "cell_type": "code",
      "execution_count": null,
      "metadata": {
        "id": "fdkXUR9nowpL"
      },
      "outputs": [],
      "source": [
        "def get_attacked_image(image):\n",
        "\n",
        "    pretrained_model = tf.keras.applications.MobileNetV2(include_top=True, weights='imagenet')\n",
        "    pretrained_model.trainable = False\n",
        "\n",
        "    # ImageNet labels\n",
        "    decode_predictions = tf.keras.applications.mobilenet_v2.decode_predictions\n",
        "\n",
        "    image = tf.cast(image, tf.float32)\n",
        "    image = tf.image.resize(image, (224, 224))\n",
        "    #image = tf.keras.applications.mobilenet_v2.preprocess_input(image)\n",
        "    image = image[None, ...]\n",
        "\n",
        "    image_probs = pretrained_model.predict(image)\n",
        "\n",
        "    plt.figure()\n",
        "    plt.imshow(image[0] * 0.5 + 0.5)  # To change [-1, 1] to [0,1]\n",
        "    _, image_class, class_confidence = decode_predictions(image_probs, top=1)[0][0]\n",
        "    plt.title('{} : {:.2f}% Confidence'.format(image_class, class_confidence*100))\n",
        "    plt.show()\n",
        "\n",
        "    loss_object = tf.keras.losses.CategoricalCrossentropy()\n",
        "\n",
        "    image_index = 413 #goldfish = 1; brown bear = 294; assault rifle = 413\n",
        "    label = tf.one_hot(image_index, image_probs.shape[-1])\n",
        "    label = tf.reshape(label, (1, image_probs.shape[-1]))\n",
        "\n",
        "    plt.figure()\n",
        "\n",
        "    with tf.GradientTape() as tape:\n",
        "      tape.watch(image)\n",
        "      prediction = pretrained_model(image)\n",
        "      loss = loss_object(label, prediction)\n",
        "\n",
        "    # Get the gradients of the loss w.r.t to the input image.\n",
        "    gradient = tape.gradient(loss, image)\n",
        "    # Get the sign of the gradients to create the perturbation\n",
        "    signed_grad = tf.sign(gradient)\n",
        "    perturbations = signed_grad\n",
        "    plt.imshow(perturbations[0] * 0.5 + 0.5);  # To change [-1, 1] to [0,1]\n",
        "    plt.show()\n",
        "\n",
        "    epsilons = [0, 0.01, 0.1, 0.15]\n",
        "    descriptions = [('Epsilon = {:0.3f}'.format(eps) if eps else 'Input')\n",
        "                for eps in epsilons]\n",
        "    \n",
        "    #for i, eps in enumerate(epsilons):\n",
        "    adv_x = image + epsilons[3]*perturbations\n",
        "    adv_x = tf.clip_by_value(adv_x, -1, 1)\n",
        "    _, label, confidence = decode_predictions(pretrained_model.predict(adv_x), top=1)[0][0]\n",
        "    plt.figure()\n",
        "    plt.imshow(adv_x[0]*0.5+0.5)\n",
        "    im = np.array(adv_x[0]*0.5 + 0.5)\n",
        "    # plt.imsave(os.path.join(path_project_root, 'attack_and_saliency\\images\\image_attacked.png'), im) #Endroit où sauvegarder l'image attaqué (Changer le path si besoin)\n",
        "    plt.title('{} \\n {} : {:.2f}% Confidence'.format(descriptions[3], label, confidence*100))\n",
        "    plt.show()\n",
        "\n",
        "    attacked_image = im\n",
        "    return attacked_image"
      ]
    },
    {
      "attachments": {},
      "cell_type": "markdown",
      "metadata": {
        "id": "2LfLYblzpAnG"
      },
      "source": [
        "# Metric"
      ]
    },
    {
      "cell_type": "code",
      "execution_count": null,
      "metadata": {
        "id": "EfurSXi7oyXw"
      },
      "outputs": [],
      "source": [
        "# Ouvrir les cartes de saillance\n",
        "def img_open(path_sal_map,path_attacked_sal_map):\n",
        "    img1 = cv2.imread(path_sal_map)\n",
        "    img2 = cv2.imread(path_attacked_sal_map)\n",
        "    return img1,img2\n",
        "\n",
        "# Calcul de la différence absolue\n",
        "# Plus la valeur est proche de 0 plus les images sont similaires\n",
        "def diff_abs(path_sal_map,path_attacked_sal_map):\n",
        "    img1 = cv2.imread(path_sal_map)\n",
        "    img2 = cv2.imread(path_attacked_sal_map)\n",
        "    return (np.sum(np.abs(img1 - img2)))/(img1.size)\n",
        "\n",
        "# Calcul de la différence quadratique (mse)\n",
        "# Plus la valeur est proche de 0 plus les images sont similaires\n",
        "def diff_quadratique(path_sal_map,path_attacked_sal_map):\n",
        "    img1, img2 = img_open(path_sal_map,path_attacked_sal_map)\n",
        "    diff = cv2.subtract(img1, img2)\n",
        "    error = np.sum(np.square(diff))\n",
        "    return error/(img1.size)\n",
        "\n",
        "# Calcul du coef de corrélation\n",
        "# Plus la valeur est proche de 1 plus les images sont similaires\n",
        "def coef_correlation(path_sal_map,path_attacked_sal_map):\n",
        "    img1, img2 = img_open(path_sal_map,path_attacked_sal_map)\n",
        "    result = pearsonr(img1.flatten(),img2.flatten())\n",
        "    return result.statistic\n",
        "\n",
        "# Calcul du ssim Structural Similarity Index\n",
        "# Plus la valeur est proche de 1 plus les images sont similaires\n",
        "def ssim_func(path_sal_map,path_attacked_sal_map):\n",
        "    img1 = cv2.imread(path_sal_map)\n",
        "    img2 = cv2.imread(path_attacked_sal_map)\n",
        "    gray_img1 = cv2.cvtColor(img1, cv2.COLOR_BGR2GRAY)\n",
        "    gray_img2 = cv2.cvtColor(img2, cv2.COLOR_BGR2GRAY)\n",
        "    valssim = ssim(gray_img1, gray_img2)\n",
        "    return valssim\n"
      ]
    },
    {
      "attachments": {},
      "cell_type": "markdown",
      "metadata": {
        "id": "FrLezdjTpESi"
      },
      "source": [
        "# MAIN PROGRAM"
      ]
    },
    {
      "cell_type": "code",
      "execution_count": null,
      "metadata": {},
      "outputs": [],
      "source": [
        "models_availables = [\"MobileNetV2\", \"VGG16\"]\n",
        "attacks_availables = [\"PGD\", \"FGSM\"]\n",
        "input_directory = os.path.join(path_project_root, 'attack_and_saliency\\images\\input')\n",
        "index_images_model = [404, 294, 500, 1, 576, 587, 606, 413]\n",
        "\n",
        "for model_name in models_availables:\n",
        "    model = load_model(model_name)\n",
        "    saliency = get_saliency_object(model)\n",
        "\n",
        "    for attack_name in attacks_availables:\n",
        "        image_index = 0\n",
        "        for filename in os.listdir(input_directory):\n",
        "            filepath = os.path.join(input_directory, filename)\n",
        "            # checking if it is a file\n",
        "            if os.path.isfile(filepath):\n",
        "                image = get_image(filepath, model_name)\n",
        "\n",
        "                score = get_score_function([index_images_model[image_index]])\n",
        "\n",
        "                filename = model_name + \"_\" + attack_name + \"_\" + filename[0:-4]\n",
        "\n",
        "                saliency_image = saliency(score, image)[0]\n",
        "                plt.imsave(os.path.join(path_project_root, 'attack_and_saliency\\images\\output\\saliency_'+ filename +'.png'), saliency_image)\n",
        "\n",
        "                attacked_image = get_attacked_image(image)\n",
        "                \n",
        "                attacked_saliency_image = saliency(score, attacked_image)[0]\n",
        "                plt.imsave(os.path.join(path_project_root, 'attack_and_saliency\\images\\output\\\\attacked_saliency_'+ filename +'.png'), attacked_saliency_image)\n",
        "                \n",
        "                image_index+=1"
      ]
    },
    {
      "cell_type": "code",
      "execution_count": null,
      "metadata": {},
      "outputs": [],
      "source": [
        "filename = filename[:-3]\n",
        "info = filename.split('_')\n"
      ]
    },
    {
      "cell_type": "code",
      "execution_count": null,
      "metadata": {},
      "outputs": [],
      "source": [
        "\n",
        "def isAttacked(filename):\n",
        "    return filename[0:8]==\"attacked\"\n",
        "\n",
        "directory = os.path.join(path_project_root, 'attack_and_saliency\\images\\output')\n",
        "\n",
        "attacked_filepath = []\n",
        "attacked_file = []\n",
        "not_attacked_filepath = []\n",
        "saliency_file = []\n",
        "\n",
        "diff_abs_result = []\n",
        "diff_quadratique_result = []\n",
        "coef_correlation_result = []\n",
        "ssim_func_result = []\n",
        "model = []\n",
        "\n",
        "for filename in os.listdir(directory):\n",
        "    filepath = os.path.join(directory, filename)\n",
        "    # checking if it is a file\n",
        "    if os.path.isfile(filepath):\n",
        "        if isAttacked(filename):\n",
        "            attacked_filepath.append(filepath)\n",
        "            attacked_file.append(filename)\n",
        "        else:\n",
        "            not_attacked_filepath.append(filepath)\n",
        "            saliency_file.append(filename)\n",
        "\n",
        "for i in range(len(attacked_filepath)):\n",
        "    path_sal_map = not_attacked_filepath[i]\n",
        "    path_attacked_sal_map = attacked_filepath[i]\n",
        "\n",
        "    # difference metric\n",
        "    diff_abs_result.append(diff_abs(path_sal_map,path_attacked_sal_map))\n",
        "    diff_quadratique_result.append(diff_quadratique(path_sal_map,path_attacked_sal_map))\n",
        "    coef_correlation_result.append(coef_correlation(path_sal_map,path_attacked_sal_map))\n",
        "    ssim_func_result.append(ssim_func(path_sal_map,path_attacked_sal_map))\n",
        "\n",
        "    #print(\"_____________________________________________________________________________________________________________________________________\")\n",
        "    #print(\"Image \", i)\n",
        "    #print(\"Différence absolue      |      Différence quadratique      |      Coefficient de corrélation      |      SSIM function\")\n",
        "    #print(diff_abs_result, \"               |               \", diff_quadratique_result,\"          |          \", coef_correlation_result,\"        |        \", ssim_func_result)"
      ]
    },
    {
      "cell_type": "code",
      "execution_count": null,
      "metadata": {},
      "outputs": [],
      "source": [
        "# Mettre les metriques dans un fichier csv\n",
        "import pandas as pd\n",
        "import matplotlib.pyplot as plt\n",
        "\n",
        "df = pd.DataFrame(list(zip(attacked_file,saliency_file,diff_abs_result,diff_quadratique_result, coef_correlation_result,ssim_func_result)), \n",
        "                  columns = ['Attacked Saliency','Saliency','Différence absolue', 'MSE','Coef de corrélation', 'SSIM'])\n",
        "\n",
        "df.to_csv('data_saliency_metrics.csv', index=False)\n",
        "df"
      ]
    },
    {
      "cell_type": "code",
      "execution_count": null,
      "metadata": {},
      "outputs": [],
      "source": [
        "\n",
        "df.plot(y='MSE', kind='line')\n",
        "df.plot(y='Différence absolue', kind='line')\n",
        "df.plot(y='Coef de corrélation', kind='line')\n",
        "df.plot(y='SSIM', kind='line')\n",
        "plt.show()"
      ]
    },
    {
      "attachments": {},
      "cell_type": "markdown",
      "metadata": {
        "id": "EC2hhDhHpIsv",
        "tags": []
      },
      "source": [
        "image_title = 'Goldfish'\n",
        "index_model = [1]\n",
        "path = os.path.join(path_project_root, \"attack_and_saliency\\images\\input\\goldfish.jpg\") #path vers l'image d'origine\n",
        "\n",
        "model = load_model(\"VGG16\")\n",
        "image = get_image(path, model_name=\"VGG16\")\n",
        "score = get_score_function(index_model)\n",
        "saliency = get_saliency_object(model)\n",
        "\n",
        "print(\"Executing : Calculating Saliency Image\")\n",
        "saliency_image = saliency(score, image)[0]\n",
        "plt.imsave(os.path.join(path_project_root, 'attack_and_saliency\\images\\output\\saliency.png'), saliency_image)\n",
        "plt.imshow(saliency_image)\n",
        "plt.title(\"Saliency\")\n",
        "plt.show()\n",
        "\n",
        "print(\"Executing : Calculating Smooth Saliency Image\")\n",
        "smooth_saliency_image = saliency(score, image, smooth_samples=20, smooth_noise=0.20)[0]\n",
        "plt.imshow(smooth_saliency_image)\n",
        "plt.title(\"Smooth Saliency\")\n",
        "plt.show()\n",
        "## Attack image"
      ]
    },
    {
      "attachments": {},
      "cell_type": "markdown",
      "metadata": {
        "id": "g0JjAt6QpKqO"
      },
      "source": [
        "attacked_image = get_attacked_image(image)"
      ]
    },
    {
      "attachments": {},
      "cell_type": "markdown",
      "metadata": {
        "id": "Za3EF5qJpPdK"
      },
      "source": [
        "## Saliency"
      ]
    },
    {
      "attachments": {},
      "cell_type": "markdown",
      "metadata": {
        "id": "fOZvKN7NpSyZ"
      },
      "source": [
        "print(\"Executing : Calculating Saliency Image\")\n",
        "saliency_attacked_image = saliency(score, attacked_image)[0]\n",
        "plt.imsave(os.path.join(path_project_root, 'attack_and_saliency\\images\\output\\\\attacked_saliency.png'), saliency_attacked_image)\n",
        "plt.imshow(saliency_attacked_image)\n",
        "plt.title(\"Saliency Attacked\")\n",
        "plt.show()\n",
        "\n",
        "print(\"Executing : Calculating Smooth Saliency Image\")\n",
        "smooth_saliency_attacked_image = saliency(score, attacked_image, smooth_samples=20, smooth_noise=0.20)[0]\n",
        "plt.imshow(smooth_saliency_attacked_image)\n",
        "plt.title(\"Smooth Saliency Attacked\")\n",
        "plt.show()"
      ]
    },
    {
      "attachments": {},
      "cell_type": "markdown",
      "metadata": {
        "id": "8AHXsBeKpVBB"
      },
      "source": [
        "## Metric"
      ]
    },
    {
      "attachments": {},
      "cell_type": "markdown",
      "metadata": {
        "id": "3AcuPzV1oe-M"
      },
      "source": [
        "path_sal_map = os.path.join(path_project_root, 'attack_and_saliency\\images\\output\\saliency.png')\n",
        "path_attacked_sal_map = os.path.join(path_project_root, 'attack_and_saliency\\images\\output\\\\attacked_saliency.png')\n",
        "\n",
        "# difference metric\n",
        "diff_abs = diff_abs(path_sal_map,path_attacked_sal_map)\n",
        "diff_quadratique = diff_quadratique(path_sal_map,path_attacked_sal_map)\n",
        "coef_correlation = coef_correlation(path_sal_map,path_attacked_sal_map)\n",
        "ssim_func = ssim_func(path_sal_map,path_attacked_sal_map)\n",
        "\n",
        "print(\"Différence absolue : \", diff_abs)\n",
        "print(\"Différence quadratique : \", diff_quadratique)\n",
        "print(\"Coefficient de corrélation : \", coef_correlation)\n",
        "print(\"SSIM function : \", ssim_func)"
      ]
    }
  ],
  "metadata": {
    "colab": {
      "provenance": []
    },
    "kernelspec": {
      "display_name": "Python 3",
      "name": "python3"
    },
    "language_info": {
      "codemirror_mode": {
        "name": "ipython",
        "version": 3
      },
      "file_extension": ".py",
      "mimetype": "text/x-python",
      "name": "python",
      "nbconvert_exporter": "python",
      "pygments_lexer": "ipython3",
      "version": "3.10.11"
    }
  },
  "nbformat": 4,
  "nbformat_minor": 0
}
